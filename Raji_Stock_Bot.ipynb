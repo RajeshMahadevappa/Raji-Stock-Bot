{
 "cells": [
  {
   "cell_type": "markdown",
   "id": "32dec633",
   "metadata": {},
   "source": [
    "## Rajesh Stock Bot "
   ]
  },
  {
   "cell_type": "code",
   "execution_count": null,
   "id": "ac42aa6d",
   "metadata": {},
   "outputs": [],
   "source": [
    "import os\n",
    "import telebot\n",
    "import time\n",
    "import yfinance as yf\n",
    "import pandas \n",
    "#from datetime import date\n",
    "from nsetools import Nse\n",
    "#from nsepy import *\n",
    "from prettytable import PrettyTable\n",
    "from telegram import ParseMode\n",
    "from selenium import webdriver\n",
    "from webdriver_manager.chrome import ChromeDriverManager\n",
    "from io import BytesIO\n",
    "from PIL import Image\n",
    "from telebot import types\n",
    "from telebot.types import InlineKeyboardMarkup, InlineKeyboardButton\n",
    "from selenium.webdriver import ActionChains\n",
    "from selenium.webdriver.common.by import By\n",
    "import logging\n",
    "logging.basicConfig(level=logging.DEBUG)\n"
   ]
  },
  {
   "cell_type": "markdown",
   "id": "63e15524",
   "metadata": {},
   "source": [
    "# Telegram API"
   ]
  },
  {
   "cell_type": "code",
   "execution_count": null,
   "id": "fc363d1a",
   "metadata": {},
   "outputs": [],
   "source": [
    "API_KEY = (\"Please instert Telegram bot API\") ##orginal \n",
    "bot = telebot.TeleBot(API_KEY)\n",
    "nse = Nse()"
   ]
  },
  {
   "cell_type": "markdown",
   "id": "c31e7e8f",
   "metadata": {},
   "source": [
    "# Start Up Section Inline and Keyboard Disaply   "
   ]
  },
  {
   "cell_type": "code",
   "execution_count": null,
   "id": "42f198ff",
   "metadata": {},
   "outputs": [],
   "source": [
    "@bot.message_handler(commands=['start'])\n",
    "def get_started(message):\n",
    "    menu = keyboard()\n",
    "    bot.send_message(message.chat.id, \"\\nHi...! \\nI'am Rajesh 😎 \\nWelcome To My Stock Bot\\n\", reply_markup=menu)    \n",
    "    \n",
    "@bot.message_handler(regexp=\"Home\")\n",
    "def Home(message):\n",
    "    menu = keyboard()\n",
    "    bot.send_message(message.chat.id, \"Welcome to Rajesh Stock Bot\", reply_markup=menu)\n",
    "    \n",
    "@bot.message_handler(regexp=\"Stock\")\n",
    "def stock_quote(message):\n",
    "    bot.send_message(message.chat.id,\"Hi welcome to live stock update \\n\\n Please type stock symbol after '/' \\n\\n eg: /acc\")\n",
    "    \n",
    "@bot.message_handler(regexp=\"Chart\")\n",
    "def stock_quote(message):\n",
    "    bot.send_message(message.chat.id,\"Hi welcome to live chart \\n\\n Please type stock symbol after '#' \\n\\n chart will be sent less that 10 sec \\n\\n eg: #acc\")\n",
    "    \n",
    "@bot.message_handler(regexp=\"Nifty Level\")\n",
    "def stock_quote(message):\n",
    "    menu = keyboard_Nifty()\n",
    "    bot.send_message(message.chat.id,\"Live Nifty Indicator\",reply_markup=menu)\n",
    "    \n",
    "@bot.message_handler(regexp=\"Heatmap\")\n",
    "def Heatmap(message):\n",
    "    menu = inline_keyboard_Chart()\n",
    "    bot.send_message(message.chat.id,\"<------------------------Heatmap---------------------> \\n<   F&O Stock -- Bank Nifty -- Nifty 50   > \\n<------------------------------------------------------------>\"\n",
    "                     ,reply_markup=menu)\n",
    "\n",
    "@bot.message_handler(regexp=\"TTM Sqz Screener\")\n",
    "def Heatmap(message):\n",
    "    menu = keyboard_TTM_sqz()\n",
    "    bot.send_message(message.chat.id,\" Welcome to TTM SQZ stock Screener \",reply_markup=menu)"
   ]
  },
  {
   "cell_type": "markdown",
   "id": "3b385189",
   "metadata": {},
   "source": [
    "# Keyboard Section"
   ]
  },
  {
   "cell_type": "code",
   "execution_count": null,
   "id": "95d4ffb5",
   "metadata": {},
   "outputs": [],
   "source": [
    "def keyboard():\n",
    "    markup = types.ReplyKeyboardMarkup(one_time_keyboard=True)\n",
    "    itembtn1 = types.KeyboardButton('Stock')\n",
    "    itembtn2 = types.KeyboardButton('Chart')\n",
    "    itembtn3 = types.KeyboardButton('Nifty Level')\n",
    "    itembtn4 = types.KeyboardButton('HeatMap')\n",
    "    itembtn5 = types.KeyboardButton('TTM Sqz Screener')\n",
    "    markup.add(itembtn1, itembtn2, itembtn3, itembtn4, itembtn5)\n",
    "    return markup\n",
    "\n",
    "    \n",
    "def keyboard_Nifty():\n",
    "    markup = types.ReplyKeyboardMarkup(row_width=2,one_time_keyboard=True)\n",
    "    itembtn1 = types.KeyboardButton('Ind VIX')\n",
    "    itembtn2 = types.KeyboardButton('Nifty 50')\n",
    "    itembtn3 = types.KeyboardButton('Bank Nifty')\n",
    "    itembtn4 = types.KeyboardButton('Home')\n",
    "    markup.add(itembtn1, itembtn2, itembtn3, itembtn4)\n",
    "    return markup\n",
    "\n",
    "def keyboard_TTM_sqz():\n",
    "    markup = types.ReplyKeyboardMarkup(row_width=2,one_time_keyboard=True)\n",
    "    itembtn1 = types.KeyboardButton('Downoad Data')\n",
    "    itembtn2 = types.KeyboardButton('Clear Data')\n",
    "    itembtn3 = types.KeyboardButton('Screener List')\n",
    "    itembtn4 = types.KeyboardButton('Home')\n",
    "    markup.add(itembtn1, itembtn2, itembtn3, itembtn4)\n",
    "    return markup"
   ]
  },
  {
   "cell_type": "markdown",
   "id": "90f76b09",
   "metadata": {},
   "source": [
    "# Inline Keyboard Section"
   ]
  },
  {
   "cell_type": "code",
   "execution_count": null,
   "id": "1f426ce1",
   "metadata": {},
   "outputs": [],
   "source": [
    "def inline_keyboard_Chart():\n",
    "    markup = InlineKeyboardMarkup()\n",
    "    markup.add(InlineKeyboardButton(\"F&O\", callback_data=\"F&O\"),\n",
    "               InlineKeyboardButton(\"Bank Nifty\", callback_data=\"Bank_Nifty\"),\n",
    "               InlineKeyboardButton(\"Nifty 50\", callback_data=\"Nifty_50\"),\n",
    "               InlineKeyboardButton(\"Home\", callback_data=\"Home\"))\n",
    "    return markup"
   ]
  },
  {
   "cell_type": "markdown",
   "id": "3e7a3670",
   "metadata": {},
   "source": [
    "# Inline Keybaord Call Back Function - 1"
   ]
  },
  {
   "cell_type": "code",
   "execution_count": null,
   "id": "a5fd954f",
   "metadata": {},
   "outputs": [],
   "source": [
    "@bot.callback_query_handler(func=lambda call: True)\n",
    "def callback_query(call):\n",
    "    if call.data == \"cash-nill\":\n",
    "        send_one(call)\n",
    "    elif call.data == \"option-nill\":\n",
    "        send_two(call)\n",
    "    elif call.data == \"future-nill\":\n",
    "        send_three(call)\n",
    "    elif call.data == \"analysis-nill\":\n",
    "        send_four(call)\n",
    "    elif call.data == \"week_option_chain-nill\":\n",
    "        send_five(call)\n",
    "    elif call.data == \"F&O\":\n",
    "        send_seven(call)\n",
    "    elif call.data == \"Nifty_50\":\n",
    "        send_eight(call)\n",
    "    elif call.data == \"Bank_Nifty\":\n",
    "        send_nine(call)\n",
    "    elif call.data == \"Home\":\n",
    "        send_ten(call)     "
   ]
  },
  {
   "cell_type": "markdown",
   "id": "f9f49a35",
   "metadata": {},
   "source": [
    "# Inline Keyboard Call Back Function - 2"
   ]
  },
  {
   "cell_type": "code",
   "execution_count": null,
   "id": "21f2a27a",
   "metadata": {},
   "outputs": [],
   "source": [
    "def send_ten(query):\n",
    "    bot.answer_callback_query(query.id)\n",
    "    menu = keyboard()\n",
    "    bot.send_message(query.message.chat.id,\"\\nHi...! \\nI'am Rajesh 😎 \\nWelcome To My Stock Bot\\n\",reply_markup=menu)"
   ]
  },
  {
   "cell_type": "markdown",
   "id": "20fb9ce5",
   "metadata": {},
   "source": [
    "# HeatMap Section #Not working any more "
   ]
  },
  {
   "cell_type": "code",
   "execution_count": null,
   "id": "e6928b24",
   "metadata": {},
   "outputs": [],
   "source": [
    "def send_seven(query):\n",
    "    options = webdriver.ChromeOptions()\n",
    "    options.headless = True\n",
    "    driver = webdriver.Chrome(ChromeDriverManager().install(), options=options)\n",
    "    driver.get(\"https://prabhuselvaraj.com/\")  #its not working anymore \n",
    "    driver.set_window_size('1650','800')\n",
    "    driver.save_screenshot(\"heatmap.png\")\n",
    "    driver.quit()\n",
    "    img = Image.open('heatmap.png') \n",
    "    left = 55\n",
    "    top = 20\n",
    "    right = 1030\n",
    "    bottom = 760\n",
    "    cropImg = img.crop((left, top, right, bottom))\n",
    "    cropImg.save('heatmap_crop.png')\n",
    "    crop_Img = open(\"heatmap_crop.png\",\"rb\")\n",
    "    #bot.send_photo(message.chat.id, crop_Img)\n",
    "    bot.send_photo(query.message.chat.id,\n",
    "                   crop_Img,\"<-----------------------F&O Heatmap-------------------->\",reply_markup=inline_keyboard_Chart())\n",
    "           \n",
    "def send_eight(query):\n",
    "    options = webdriver.ChromeOptions()\n",
    "    options.headless = True\n",
    "    driver = webdriver.Chrome(ChromeDriverManager().install(), options=options)\n",
    "    driver.get(\"https://prabhuselvaraj.com/\")  #its not working anymore \n",
    "    driver.set_window_size('1650','800')\n",
    "    driver.save_screenshot(\"heatmap.png\")\n",
    "    driver.quit()\n",
    "    img = Image.open('heatmap.png') \n",
    "    width, height = img.size\n",
    "    left = 1080 \n",
    "    top = 200 \n",
    "    right = 5\n",
    "    bottom =  2\n",
    "    cropImg = img.crop((left, top, right + width, bottom + height))\n",
    "    cropImg.save('heatmap_crop.png')\n",
    "    crop_Img = open(\"heatmap_crop.png\",\"rb\")\n",
    "    bot.send_photo(query.message.chat.id,\n",
    "                   crop_Img,\"<--------------------Nifty 50----------------->\",reply_markup=inline_keyboard_Chart())\n",
    "\n",
    "def send_nine(query):\n",
    "    options = webdriver.ChromeOptions()\n",
    "    options.headless = True\n",
    "    driver = webdriver.Chrome(ChromeDriverManager().install(), options=options)\n",
    "    driver.get(\"https://prabhuselvaraj.com/\")  #its not working anymore \n",
    "    driver.set_window_size('1650','800')\n",
    "    driver.save_screenshot(\"heatmap.png\")\n",
    "    driver.quit()\n",
    "    img = Image.open('heatmap.png')\n",
    "    width, height = img.size\n",
    "    left = 1050 \n",
    "    top = 10 \n",
    "    right = 5\n",
    "    bottom =  -600\n",
    "    cropImg = img.crop((left, top, right + width, bottom + height))\n",
    "    cropImg.save('heatmap_crop.png')\n",
    "    crop_Img = open(\"heatmap_crop.png\",\"rb\")\n",
    "    bot.send_photo(query.message.chat.id,\n",
    "                   crop_Img,\"<-------------------------Bank Nifty------------------------->\",reply_markup=inline_keyboard_Chart())\n",
    "   "
   ]
  },
  {
   "cell_type": "markdown",
   "id": "df7db0f8",
   "metadata": {},
   "source": [
    "# Candel Stick Chart "
   ]
  },
  {
   "cell_type": "code",
   "execution_count": null,
   "id": "4d9f6714",
   "metadata": {},
   "outputs": [],
   "source": [
    "def find_at_chart(msg):\n",
    "    for text in msg:\n",
    "        if '#' in text:\n",
    "            return text\n",
    "        \n",
    "@bot.message_handler(func=lambda msg: msg.text is not None and '#' in msg.text)\n",
    "def echo_message(message):\n",
    "        \n",
    "    msg = message.text.split()\n",
    "    text = find_at_chart(msg)\n",
    "    text = text[1:]\n",
    "    text = text.upper()\n",
    "    options = webdriver.ChromeOptions()\n",
    "    options.headless = True\n",
    "    driver = webdriver.Chrome(ChromeDriverManager().install(), options=options)\n",
    "    url = \"https://in.tradingview.com/chart/?symbol=\" + text\n",
    "    driver.get(url)  \n",
    "    time.sleep(2)\n",
    "    driver.set_window_size('1650','800')\n",
    "    driver.save_screenshot(\"heatmap.png\")\n",
    "    driver.quit()\n",
    "    img = Image.open('heatmap.png')\n",
    "    left = 50\n",
    "    top = 40\n",
    "    right = 1335\n",
    "    bottom = 760\n",
    "    cropImg = img.crop((left, top, right, bottom))\n",
    "    cropImg.save('heatmap_crop.png')\n",
    "    crop_Img = open(\"heatmap_crop.png\",\"rb\")\n",
    "    bot.send_photo(message.chat.id,crop_Img,url)\n"
   ]
  },
  {
   "cell_type": "markdown",
   "id": "9cec11a7",
   "metadata": {},
   "source": [
    "# Nifty Level Indicator"
   ]
  },
  {
   "cell_type": "code",
   "execution_count": null,
   "id": "c01aa0bc",
   "metadata": {},
   "outputs": [],
   "source": [
    "@bot.message_handler(commands=['nif_50'])\n",
    "@bot.message_handler(regexp=\"Nifty 50\")\n",
    "def get_stock_nifty_50(message):\n",
    "    from nsetools import Nse\n",
    "    nse = Nse()\n",
    "    data = nse.get_index_quote('NIFTY 50')\n",
    "    Price = data.get('lastPrice')\n",
    "    Change = data.get('change')\n",
    "    Change_percentage = data.get('pChange')\n",
    "    \n",
    "    myTable = PrettyTable(['Stock','Status'])\n",
    "    myTable.add_row([\"Symbol\",\"NIFTY 50\"])\n",
    "    myTable.add_row([\"Price\",Price])\n",
    "    myTable.add_row([\"Change\",Change])\n",
    "    myTable.add_row([\"Chg%\",Change_percentage])\n",
    "    bot.send_message(message.chat.id,f'```{myTable}```', parse_mode=ParseMode.MARKDOWN_V2)\n",
    "    \n",
    "@bot.message_handler(commands=['nif_bank'])\n",
    "@bot.message_handler(regexp=\"Bank Nifty\")\n",
    "def get_stock_nifty_50(message):\n",
    "    from nsetools import Nse\n",
    "    nse = Nse()\n",
    "    data = nse.get_index_quote('nifty bank')\n",
    "    Price = data.get('lastPrice')\n",
    "    Change = data.get('change')\n",
    "    Change_percentage = data.get('pChange')\n",
    "    \n",
    "    myTable = PrettyTable(['Stock','Status'])\n",
    "    myTable.add_row([\"Symbol\",\"NIFTY BANK\"])\n",
    "    myTable.add_row([\"Price\",Price])\n",
    "    myTable.add_row([\"Change\",Change])\n",
    "    myTable.add_row([\"Chg%\",Change_percentage])\n",
    "    bot.send_message(message.chat.id,f'```{myTable}```', parse_mode=ParseMode.MARKDOWN_V2)\n",
    "    \n",
    "@bot.message_handler(commands=['Ind_Vix'])\n",
    "@bot.message_handler(regexp=\"Ind VIX\")\n",
    "def get_stock_nifty_50(message):\n",
    "    from nsetools import Nse\n",
    "    nse = Nse()\n",
    "    data = nse.get_index_quote('INDIA VIX')\n",
    "    Price = data.get('lastPrice')\n",
    "    Change = data.get('change')\n",
    "    Change_percentage = data.get('pChange')\n",
    "    \n",
    "    myTable = PrettyTable(['Stock','Status'])\n",
    "    myTable.add_row([\"Symbol\",\"INDIA VIX\"])\n",
    "    myTable.add_row([\"Price\",Price])\n",
    "    myTable.add_row([\"Change\",Change])\n",
    "    myTable.add_row([\"Chg%\",Change_percentage])\n",
    "    bot.send_message(message.chat.id,f'```{myTable}```', parse_mode=ParseMode.MARKDOWN_V2)"
   ]
  },
  {
   "cell_type": "markdown",
   "id": "1f071851",
   "metadata": {},
   "source": [
    "# Stock Information"
   ]
  },
  {
   "cell_type": "code",
   "execution_count": null,
   "id": "02403554",
   "metadata": {},
   "outputs": [],
   "source": [
    "def find_at_stock(msg):\n",
    "    for text in msg:\n",
    "        if '/' in text:\n",
    "            return text\n",
    "              \n",
    "@bot.message_handler(func=lambda msg: msg.text is not None and '/' in msg.text)\n",
    "def echo_message(message):\n",
    "    msg = message.text.split()\n",
    "    text = find_at_stock(msg)\n",
    "    text = text[1:]\n",
    "    from nsetools import Nse\n",
    "    nse = Nse()\n",
    "    data = nse.get_quote(text)\n",
    "    symbol = data.get('symbol')\n",
    "    Price = data.get('lastPrice')\n",
    "    Volume = float(data.get('quantityTraded')/1000000)\n",
    "    format_volume = \"{:.2f}\".format(Volume) \n",
    "    Change_percentage = (data.get('pChange'))\n",
    "    day_high = data.get('dayHigh')\n",
    "    day_low = data.get('dayLow')   \n",
    "    myTable = PrettyTable(['Stock',symbol])\n",
    "    myTable.add_row([\"Price\",Price])\n",
    "    myTable.add_row([\"Volume\",format_volume + \"M\"])\n",
    "    myTable.add_row([\"Chg%\",Change_percentage])\n",
    "    myTable.add_row([\"Day High\",day_high])\n",
    "    myTable.add_row([\"Day Low\",day_low])\n",
    "    bot.send_message(message.chat.id,f'```{myTable}```', parse_mode=ParseMode.MARKDOWN_V2)"
   ]
  },
  {
   "cell_type": "markdown",
   "id": "63af526c",
   "metadata": {},
   "source": [
    "# TTM SQZ Screener"
   ]
  },
  {
   "cell_type": "code",
   "execution_count": null,
   "id": "ee68a620",
   "metadata": {},
   "outputs": [],
   "source": [
    "def find_at_ttm_sqz(msg):\n",
    "    for text in msg:\n",
    "        if '$' in text:\n",
    "            return text\n",
    "        \n",
    "                \n",
    "@bot.message_handler(func=lambda msg: msg.text is not None and '$' in msg.text)\n",
    "def echo_message(message):\n",
    "    msg = message.text.split()\n",
    "    text = find_at_ttm_sqz(msg)\n",
    "    text = text[1:]\n",
    "    \n",
    "    bot.send_message(message.chat.id,\"History data downloaded\",text)"
   ]
  },
  {
   "cell_type": "code",
   "execution_count": null,
   "id": "cd604dc4",
   "metadata": {},
   "outputs": [],
   "source": [
    "@bot.message_handler(commands=['Screener_List'])\n",
    "@bot.message_handler(regexp=\"Screener List\")\n",
    "def clear(message):\n",
    "    import os\n",
    "   # from tabulate import tabulate\n",
    "    import pandas\n",
    "    from prettytable import PrettyTable\n",
    "    data =[]\n",
    "    myTable = PrettyTable(['Stock'])\n",
    "    for filename in os.listdir('Nse_Histrocial_Data'):\n",
    "        #print(filename)\n",
    "        symbol = filename.split(\".\")[0]\n",
    "        #print(symbol)\n",
    "        df = pandas.read_csv('Nse_Histrocial_Data/{}'.format(filename))\n",
    "        if df.empty:\n",
    "            continue\n",
    "\n",
    "        df['20sma'] = df['Close'].rolling(window=20).mean()\n",
    "        df['stddev'] = df['Close'].rolling(window=20).std()\n",
    "        df['lower_band'] = df['20sma'] - (2 * df['stddev'])\n",
    "        df['upper_band'] = df['20sma'] + (2 * df['stddev'])\n",
    "\n",
    "        df['TR'] = abs(df['High'] - df['Low'])\n",
    "        df['ATR'] = df['TR'].rolling(window=20).mean()\n",
    "\n",
    "        df['lower_keltner'] = df['20sma'] - (df['ATR'] * 1.5)\n",
    "        df['upper_keltner'] = df['20sma'] + (df['ATR'] * 1.5)\n",
    "\n",
    "        def in_squeeze(df):\n",
    "            return df['lower_band'] > df['lower_keltner'] and df['upper_band'] < df['upper_keltner']\n",
    "\n",
    "        df['squeeze_on'] = df.apply(in_squeeze, axis=1)\n",
    "    \n",
    "    \n",
    "        if df.iloc[-2]['squeeze_on'] and not df.iloc[-1]['squeeze_on']:\n",
    "            data = (\"{}\".format(symbol))\n",
    "            myTable.add_row([data])\n",
    "    bot.send_message(message.chat.id,f'```{myTable}```', parse_mode=ParseMode.MARKDOWN_V2)"
   ]
  },
  {
   "cell_type": "code",
   "execution_count": null,
   "id": "2dadded4",
   "metadata": {},
   "outputs": [],
   "source": [
    "@bot.message_handler(commands=['clear_data'])\n",
    "@bot.message_handler(regexp=\"Clear Data\")\n",
    "def clear(message):\n",
    "    path_to_folder = \"Nse_Histrocial_Data\"\n",
    "    list_dir = os.listdir(path_to_folder)\n",
    "    for filename in list_dir:\n",
    "        file_path = os.path.join(path_to_folder, filename)\n",
    "        if os.path.isfile(file_path) or os.path.islink(file_path):\n",
    "            data = (\"deleting file:\", file_path)\n",
    "            os.unlink(file_path)\n",
    "    bot.send_message(message.chat.id,\"Nse Historical data Cleared\")"
   ]
  },
  {
   "cell_type": "code",
   "execution_count": null,
   "id": "b62ed988",
   "metadata": {},
   "outputs": [],
   "source": [
    "@bot.message_handler(commands=['downoad_data'])\n",
    "@bot.message_handler(regexp=\"Downoad Data\")\n",
    "def Data(message):\n",
    "    with open('symbol.csv') as f:\n",
    "        lines = f.read().splitlines()\n",
    "        for symbol in lines:\n",
    "            symbol = symbol + \".NS\"\n",
    "            data = yf.download(symbol, start=\"2021-01-01\")\n",
    "            data.to_csv(\"Nse_Histrocial_Data/{}.csv\".format(symbol))\n",
    "        bot.send_message(message.chat.id,\"Data Imported from 2021/01/01 to Today\")"
   ]
  },
  {
   "cell_type": "markdown",
   "id": "554d4ee5",
   "metadata": {},
   "source": [
    "# Boot Loop "
   ]
  },
  {
   "cell_type": "code",
   "execution_count": null,
   "id": "89fe503a",
   "metadata": {},
   "outputs": [],
   "source": [
    "while True:\n",
    "    try:    \n",
    "        status = \"Connected\"\n",
    "        bot.polling(none_stop=False, interval=1)\n",
    "        pass     \n",
    "\n",
    "    except:\n",
    "        status = \"failure\"\n",
    "        print (status)\n",
    "\n",
    "    else:\n",
    "        print (status)\n",
    "\n",
    "\n",
    "    #do something..\n",
    "    time.sleep(1)"
   ]
  }
 ],
 "metadata": {
  "interpreter": {
   "hash": "ac59ebe37160ed0dfa835113d9b8498d9f09ceb179beaac4002f036b9467c963"
  },
  "kernelspec": {
   "display_name": "Python 3 (ipykernel)",
   "language": "python",
   "name": "python3"
  },
  "language_info": {
   "codemirror_mode": {
    "name": "ipython",
    "version": 3
   },
   "file_extension": ".py",
   "mimetype": "text/x-python",
   "name": "python",
   "nbconvert_exporter": "python",
   "pygments_lexer": "ipython3",
   "version": "3.9.7"
  }
 },
 "nbformat": 4,
 "nbformat_minor": 5
}
